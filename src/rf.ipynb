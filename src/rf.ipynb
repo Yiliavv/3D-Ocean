{
 "cells": [
  {
   "cell_type": "code",
   "execution_count": 6,
   "metadata": {},
   "outputs": [],
   "source": [
    "%reload_ext autoreload\n",
    "%autoreload 2\n",
    "import sys\n",
    "\n",
    "sys.path.append('B://workspace/tensorflow')"
   ]
  },
  {
   "cell_type": "code",
   "execution_count": null,
   "metadata": {},
   "outputs": [],
   "source": [
    "from src.config.area import Area\n",
    "from src.trainer.base import BaseTrainer\n",
    "from src.dataset.Argo import Argo3DTemperatureDataset\n",
    "from src.models.RDF import RDFNetwork\n",
    "\n",
    "area = Area(\"global_rf_model\", [-180, 180], [-80, 80], \"global\")\n",
    "\n",
    "dataset_params = {\n",
    "    \"depth\": [0, 5],\n",
    "    \"resolution\": 2\n",
    "}\n",
    "\n",
    "# 训练器参数\n",
    "trainer_params = {\n",
    "    \"epochs\": 2,\n",
    "    \"batch_size\": 10,\n",
    "}\n",
    "\n",
    "# 随机森林模型参数\n",
    "model_params = {\n",
    "    \"n_estimators\": 10,\n",
    "    \"random_state\": 42,\n",
    "}\n",
    "\n",
    "rf_trainer = BaseTrainer(\n",
    "    title=\"rf\",\n",
    "    area=area,\n",
    "    model_class=RDFNetwork,\n",
    "    dataset_class=Argo3DTemperatureDataset,\n",
    "    save_path=\"B://workspace/tensorflow/output/models/rf_global.pkl\",\n",
    "    pre_model=None,\n",
    "    dataset_params=dataset_params,\n",
    "    trainer_params=trainer_params,\n",
    "    model_params=model_params\n",
    ")\n",
    "\n",
    "model = rf_trainer.train()\n"
   ]
  }
 ],
 "metadata": {
  "kernelspec": {
   "display_name": ".venv",
   "language": "python",
   "name": "python3"
  },
  "language_info": {
   "codemirror_mode": {
    "name": "ipython",
    "version": 3
   },
   "file_extension": ".py",
   "mimetype": "text/x-python",
   "name": "python",
   "nbconvert_exporter": "python",
   "pygments_lexer": "ipython3",
   "version": "3.12.3"
  }
 },
 "nbformat": 4,
 "nbformat_minor": 2
}
