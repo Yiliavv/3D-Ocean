{
 "cells": [
  {
   "cell_type": "code",
   "execution_count": 1,
   "metadata": {},
   "outputs": [],
   "source": [
    "%reload_ext autoreload\n",
    "%autoreload 2\n",
    "import sys\n",
    "\n",
    "sys.path.append('X:/WorkSpace/tensorflow')"
   ]
  },
  {
   "cell_type": "code",
   "execution_count": 2,
   "metadata": {},
   "outputs": [
    {
     "name": "stderr",
     "output_type": "stream",
     "text": [
      "GPU available: True (cuda), used: True\n",
      "TPU available: False, using: 0 TPU cores\n",
      "HPU available: False, using: 0 HPUs\n",
      "x:\\WorkSpace\\tensorflow\\.venv\\Lib\\site-packages\\lightning\\pytorch\\trainer\\connectors\\logger_connector\\logger_connector.py:76: Starting from v1.9.0, `tensorboardX` has been removed as a dependency of the `lightning.pytorch` package, due to potential conflicts with other packages in the ML ecosystem. For this reason, `logger=True` will use `CSVLogger` as the default logger, unless the `tensorboard` or `tensorboardX` packages are found. Please `pip install lightning[extra]` or one of them to enable TensorBoard support by default\n",
      "x:\\WorkSpace\\tensorflow\\.venv\\Lib\\site-packages\\lightning\\pytorch\\trainer\\configuration_validator.py:68: You passed in a `val_dataloader` but have no `validation_step`. Skipping val loop.\n",
      "You are using a CUDA device ('NVIDIA GeForce RTX 4060 Ti') that has Tensor Cores. To properly utilize them, you should set `torch.set_float32_matmul_precision('medium' | 'high')` which will trade-off precision for performance. For more details, read https://pytorch.org/docs/stable/generated/torch.set_float32_matmul_precision.html#torch.set_float32_matmul_precision\n",
      "LOCAL_RANK: 0 - CUDA_VISIBLE_DEVICES: [0]\n",
      "\n",
      "  | Name | Type | Params | Mode\n",
      "-------------------------------------\n",
      "-------------------------------------\n",
      "0         Trainable params\n",
      "0         Non-trainable params\n",
      "0         Total params\n",
      "0.000     Total estimated model params size (MB)\n",
      "0         Modules in train mode\n",
      "0         Modules in eval mode\n",
      "x:\\WorkSpace\\tensorflow\\.venv\\Lib\\site-packages\\lightning\\pytorch\\trainer\\connectors\\data_connector.py:425: The 'train_dataloader' does not have many workers which may be a bottleneck. Consider increasing the value of the `num_workers` argument` to `num_workers=11` in the `DataLoader` to improve performance.\n",
      "x:\\WorkSpace\\tensorflow\\.venv\\Lib\\site-packages\\lightning\\pytorch\\loops\\fit_loop.py:310: The number of training batches (20) is smaller than the logging interval Trainer(log_every_n_steps=50). Set a lower value for log_every_n_steps if you want to see logs for the training epoch.\n"
     ]
    },
    {
     "name": "stdout",
     "output_type": "stream",
     "text": [
      "================================================\n",
      "Model: RDFNetwork Training Started at: 2025-09-07 15:21:36\n",
      "Epoch 0:   0%|          | 0/20 [00:00<?, ?it/s] Training - Input shape: (10, 14400), Target shape: (10, 72000)\n",
      "Forward - Input shape: (10, 14400), Target shape: (10, 72000)\n"
     ]
    },
    {
     "name": "stderr",
     "output_type": "stream",
     "text": [
      "[Parallel(n_jobs=16)]: Using backend ThreadingBackend with 16 concurrent workers.\n"
     ]
    },
    {
     "name": "stdout",
     "output_type": "stream",
     "text": [
      "Loss - y_pred shape: torch.Size([10, 80, 180, 5]), y shape: torch.Size([10, 80, 180, 5])\n",
      "Epoch 0:   5%|▌         | 1/20 [00:31<09:49,  0.03it/s, v_num=21, train_loss=0.104]"
     ]
    },
    {
     "name": "stderr",
     "output_type": "stream",
     "text": [
      "[Parallel(n_jobs=16)]: Done  10 out of  10 | elapsed:   30.5s finished\n",
      "[Parallel(n_jobs=10)]: Using backend ThreadingBackend with 10 concurrent workers.\n",
      "[Parallel(n_jobs=10)]: Done   2 out of  10 | elapsed:    0.0s remaining:    0.0s\n",
      "[Parallel(n_jobs=10)]: Done  10 out of  10 | elapsed:    0.0s finished\n",
      "x:\\WorkSpace\\tensorflow\\.venv\\Lib\\site-packages\\lightning\\pytorch\\loops\\optimization\\automatic.py:134: `training_step` returned `None`. If this was on purpose, ignore this warning...\n"
     ]
    },
    {
     "name": "stdout",
     "output_type": "stream",
     "text": [
      "Training - Input shape: (10, 14400), Target shape: (10, 72000)\n",
      "Forward - Input shape: (10, 14400), Target shape: (10, 72000)\n"
     ]
    },
    {
     "name": "stderr",
     "output_type": "stream",
     "text": [
      "[Parallel(n_jobs=16)]: Using backend ThreadingBackend with 16 concurrent workers.\n"
     ]
    },
    {
     "name": "stdout",
     "output_type": "stream",
     "text": [
      "Loss - y_pred shape: torch.Size([10, 80, 180, 5]), y shape: torch.Size([10, 80, 180, 5])\n",
      "Epoch 0:  10%|█         | 2/20 [00:59<08:51,  0.03it/s, v_num=21, train_loss=0.111]"
     ]
    },
    {
     "name": "stderr",
     "output_type": "stream",
     "text": [
      "[Parallel(n_jobs=16)]: Done  10 out of  10 | elapsed:   27.6s finished\n",
      "[Parallel(n_jobs=10)]: Using backend ThreadingBackend with 10 concurrent workers.\n",
      "[Parallel(n_jobs=10)]: Done   2 out of  10 | elapsed:    0.0s remaining:    0.0s\n",
      "[Parallel(n_jobs=10)]: Done  10 out of  10 | elapsed:    0.0s finished\n"
     ]
    },
    {
     "name": "stdout",
     "output_type": "stream",
     "text": [
      "Training - Input shape: (10, 14400), Target shape: (10, 72000)\n",
      "Forward - Input shape: (10, 14400), Target shape: (10, 72000)\n"
     ]
    },
    {
     "name": "stderr",
     "output_type": "stream",
     "text": [
      "[Parallel(n_jobs=16)]: Using backend ThreadingBackend with 16 concurrent workers.\n"
     ]
    },
    {
     "name": "stdout",
     "output_type": "stream",
     "text": [
      "Loss - y_pred shape: torch.Size([10, 80, 180, 5]), y shape: torch.Size([10, 80, 180, 5])\n",
      "Epoch 0:  15%|█▌        | 3/20 [01:29<08:26,  0.03it/s, v_num=21, train_loss=0.143]"
     ]
    },
    {
     "name": "stderr",
     "output_type": "stream",
     "text": [
      "[Parallel(n_jobs=16)]: Done  10 out of  10 | elapsed:   29.9s finished\n",
      "[Parallel(n_jobs=10)]: Using backend ThreadingBackend with 10 concurrent workers.\n",
      "[Parallel(n_jobs=10)]: Done   2 out of  10 | elapsed:    0.0s remaining:    0.0s\n",
      "[Parallel(n_jobs=10)]: Done  10 out of  10 | elapsed:    0.0s finished\n"
     ]
    },
    {
     "name": "stdout",
     "output_type": "stream",
     "text": [
      "Training - Input shape: (10, 14400), Target shape: (10, 72000)\n",
      "Forward - Input shape: (10, 14400), Target shape: (10, 72000)\n"
     ]
    },
    {
     "name": "stderr",
     "output_type": "stream",
     "text": [
      "[Parallel(n_jobs=16)]: Using backend ThreadingBackend with 16 concurrent workers.\n"
     ]
    },
    {
     "name": "stdout",
     "output_type": "stream",
     "text": [
      "Loss - y_pred shape: torch.Size([10, 80, 180, 5]), y shape: torch.Size([10, 80, 180, 5])\n",
      "Epoch 0:  20%|██        | 4/20 [01:59<07:56,  0.03it/s, v_num=21, train_loss=0.0806]"
     ]
    },
    {
     "name": "stderr",
     "output_type": "stream",
     "text": [
      "[Parallel(n_jobs=16)]: Done  10 out of  10 | elapsed:   29.5s finished\n",
      "[Parallel(n_jobs=10)]: Using backend ThreadingBackend with 10 concurrent workers.\n",
      "[Parallel(n_jobs=10)]: Done   2 out of  10 | elapsed:    0.0s remaining:    0.0s\n",
      "[Parallel(n_jobs=10)]: Done  10 out of  10 | elapsed:    0.0s finished\n"
     ]
    },
    {
     "name": "stdout",
     "output_type": "stream",
     "text": [
      "Training - Input shape: (10, 14400), Target shape: (10, 72000)\n",
      "Forward - Input shape: (10, 14400), Target shape: (10, 72000)\n"
     ]
    },
    {
     "name": "stderr",
     "output_type": "stream",
     "text": [
      "[Parallel(n_jobs=16)]: Using backend ThreadingBackend with 16 concurrent workers.\n"
     ]
    },
    {
     "name": "stdout",
     "output_type": "stream",
     "text": [
      "Loss - y_pred shape: torch.Size([10, 80, 180, 5]), y shape: torch.Size([10, 80, 180, 5])\n",
      "Epoch 0:  25%|██▌       | 5/20 [02:27<07:23,  0.03it/s, v_num=21, train_loss=0.142] "
     ]
    },
    {
     "name": "stderr",
     "output_type": "stream",
     "text": [
      "[Parallel(n_jobs=16)]: Done  10 out of  10 | elapsed:   28.3s finished\n",
      "[Parallel(n_jobs=10)]: Using backend ThreadingBackend with 10 concurrent workers.\n",
      "[Parallel(n_jobs=10)]: Done   2 out of  10 | elapsed:    0.0s remaining:    0.0s\n",
      "[Parallel(n_jobs=10)]: Done  10 out of  10 | elapsed:    0.0s finished\n"
     ]
    },
    {
     "name": "stdout",
     "output_type": "stream",
     "text": [
      "Training - Input shape: (10, 14400), Target shape: (10, 72000)\n",
      "Forward - Input shape: (10, 14400), Target shape: (10, 72000)\n"
     ]
    },
    {
     "name": "stderr",
     "output_type": "stream",
     "text": [
      "[Parallel(n_jobs=16)]: Using backend ThreadingBackend with 16 concurrent workers.\n"
     ]
    },
    {
     "name": "stdout",
     "output_type": "stream",
     "text": [
      "Loss - y_pred shape: torch.Size([10, 80, 180, 5]), y shape: torch.Size([10, 80, 180, 5])\n",
      "Epoch 0:  30%|███       | 6/20 [02:56<06:52,  0.03it/s, v_num=21, train_loss=0.180]"
     ]
    },
    {
     "name": "stderr",
     "output_type": "stream",
     "text": [
      "[Parallel(n_jobs=16)]: Done  10 out of  10 | elapsed:   28.3s finished\n",
      "[Parallel(n_jobs=10)]: Using backend ThreadingBackend with 10 concurrent workers.\n",
      "[Parallel(n_jobs=10)]: Done   2 out of  10 | elapsed:    0.0s remaining:    0.0s\n",
      "[Parallel(n_jobs=10)]: Done  10 out of  10 | elapsed:    0.0s finished\n"
     ]
    },
    {
     "name": "stdout",
     "output_type": "stream",
     "text": [
      "Training - Input shape: (10, 14400), Target shape: (10, 72000)\n",
      "Forward - Input shape: (10, 14400), Target shape: (10, 72000)\n"
     ]
    },
    {
     "name": "stderr",
     "output_type": "stream",
     "text": [
      "[Parallel(n_jobs=16)]: Using backend ThreadingBackend with 16 concurrent workers.\n"
     ]
    },
    {
     "name": "stdout",
     "output_type": "stream",
     "text": [
      "Loss - y_pred shape: torch.Size([10, 80, 180, 5]), y shape: torch.Size([10, 80, 180, 5])\n",
      "Epoch 0:  35%|███▌      | 7/20 [03:26<06:22,  0.03it/s, v_num=21, train_loss=0.0826]"
     ]
    },
    {
     "name": "stderr",
     "output_type": "stream",
     "text": [
      "[Parallel(n_jobs=16)]: Done  10 out of  10 | elapsed:   29.0s finished\n",
      "[Parallel(n_jobs=10)]: Using backend ThreadingBackend with 10 concurrent workers.\n",
      "[Parallel(n_jobs=10)]: Done   2 out of  10 | elapsed:    0.0s remaining:    0.0s\n",
      "[Parallel(n_jobs=10)]: Done  10 out of  10 | elapsed:    0.0s finished\n"
     ]
    },
    {
     "name": "stdout",
     "output_type": "stream",
     "text": [
      "Training - Input shape: (10, 14400), Target shape: (10, 72000)\n",
      "Forward - Input shape: (10, 14400), Target shape: (10, 72000)\n"
     ]
    },
    {
     "name": "stderr",
     "output_type": "stream",
     "text": [
      "[Parallel(n_jobs=16)]: Using backend ThreadingBackend with 16 concurrent workers.\n"
     ]
    },
    {
     "name": "stdout",
     "output_type": "stream",
     "text": [
      "Loss - y_pred shape: torch.Size([10, 80, 180, 5]), y shape: torch.Size([10, 80, 180, 5])\n",
      "Epoch 0:  40%|████      | 8/20 [03:54<05:52,  0.03it/s, v_num=21, train_loss=0.118] "
     ]
    },
    {
     "name": "stderr",
     "output_type": "stream",
     "text": [
      "[Parallel(n_jobs=16)]: Done  10 out of  10 | elapsed:   28.4s finished\n",
      "[Parallel(n_jobs=10)]: Using backend ThreadingBackend with 10 concurrent workers.\n",
      "[Parallel(n_jobs=10)]: Done   2 out of  10 | elapsed:    0.0s remaining:    0.0s\n",
      "[Parallel(n_jobs=10)]: Done  10 out of  10 | elapsed:    0.0s finished\n"
     ]
    },
    {
     "name": "stdout",
     "output_type": "stream",
     "text": [
      "Training - Input shape: (10, 14400), Target shape: (10, 72000)\n",
      "Forward - Input shape: (10, 14400), Target shape: (10, 72000)\n"
     ]
    },
    {
     "name": "stderr",
     "output_type": "stream",
     "text": [
      "[Parallel(n_jobs=16)]: Using backend ThreadingBackend with 16 concurrent workers.\n"
     ]
    },
    {
     "name": "stdout",
     "output_type": "stream",
     "text": [
      "Loss - y_pred shape: torch.Size([10, 80, 180, 5]), y shape: torch.Size([10, 80, 180, 5])\n",
      "Epoch 0:  45%|████▌     | 9/20 [04:23<05:21,  0.03it/s, v_num=21, train_loss=0.145]"
     ]
    },
    {
     "name": "stderr",
     "output_type": "stream",
     "text": [
      "[Parallel(n_jobs=16)]: Done  10 out of  10 | elapsed:   28.2s finished\n",
      "[Parallel(n_jobs=10)]: Using backend ThreadingBackend with 10 concurrent workers.\n",
      "[Parallel(n_jobs=10)]: Done   2 out of  10 | elapsed:    0.0s remaining:    0.0s\n",
      "[Parallel(n_jobs=10)]: Done  10 out of  10 | elapsed:    0.0s finished\n"
     ]
    },
    {
     "name": "stdout",
     "output_type": "stream",
     "text": [
      "Training - Input shape: (10, 14400), Target shape: (10, 72000)\n",
      "Forward - Input shape: (10, 14400), Target shape: (10, 72000)\n"
     ]
    },
    {
     "name": "stderr",
     "output_type": "stream",
     "text": [
      "[Parallel(n_jobs=16)]: Using backend ThreadingBackend with 16 concurrent workers.\n"
     ]
    },
    {
     "name": "stdout",
     "output_type": "stream",
     "text": [
      "Loss - y_pred shape: torch.Size([10, 80, 180, 5]), y shape: torch.Size([10, 80, 180, 5])\n",
      "Epoch 0:  50%|█████     | 10/20 [04:52<04:52,  0.03it/s, v_num=21, train_loss=0.0972]"
     ]
    },
    {
     "name": "stderr",
     "output_type": "stream",
     "text": [
      "[Parallel(n_jobs=16)]: Done  10 out of  10 | elapsed:   29.0s finished\n",
      "[Parallel(n_jobs=10)]: Using backend ThreadingBackend with 10 concurrent workers.\n",
      "[Parallel(n_jobs=10)]: Done   2 out of  10 | elapsed:    0.0s remaining:    0.0s\n",
      "[Parallel(n_jobs=10)]: Done  10 out of  10 | elapsed:    0.0s finished\n"
     ]
    },
    {
     "name": "stdout",
     "output_type": "stream",
     "text": [
      "Training - Input shape: (10, 14400), Target shape: (10, 72000)\n",
      "Forward - Input shape: (10, 14400), Target shape: (10, 72000)\n"
     ]
    },
    {
     "name": "stderr",
     "output_type": "stream",
     "text": [
      "[Parallel(n_jobs=16)]: Using backend ThreadingBackend with 16 concurrent workers.\n"
     ]
    },
    {
     "name": "stdout",
     "output_type": "stream",
     "text": [
      "Loss - y_pred shape: torch.Size([10, 80, 180, 5]), y shape: torch.Size([10, 80, 180, 5])\n",
      "Epoch 0:  55%|█████▌    | 11/20 [05:21<04:22,  0.03it/s, v_num=21, train_loss=0.113] "
     ]
    },
    {
     "name": "stderr",
     "output_type": "stream",
     "text": [
      "[Parallel(n_jobs=16)]: Done  10 out of  10 | elapsed:   28.0s finished\n",
      "[Parallel(n_jobs=10)]: Using backend ThreadingBackend with 10 concurrent workers.\n",
      "[Parallel(n_jobs=10)]: Done   2 out of  10 | elapsed:    0.0s remaining:    0.0s\n",
      "[Parallel(n_jobs=10)]: Done  10 out of  10 | elapsed:    0.0s finished\n"
     ]
    },
    {
     "name": "stdout",
     "output_type": "stream",
     "text": [
      "Training - Input shape: (10, 14400), Target shape: (10, 72000)\n",
      "Forward - Input shape: (10, 14400), Target shape: (10, 72000)\n"
     ]
    },
    {
     "name": "stderr",
     "output_type": "stream",
     "text": [
      "[Parallel(n_jobs=16)]: Using backend ThreadingBackend with 16 concurrent workers.\n"
     ]
    },
    {
     "name": "stdout",
     "output_type": "stream",
     "text": [
      "Loss - y_pred shape: torch.Size([10, 80, 180, 5]), y shape: torch.Size([10, 80, 180, 5])\n",
      "Epoch 0:  60%|██████    | 12/20 [05:50<03:53,  0.03it/s, v_num=21, train_loss=0.153]"
     ]
    },
    {
     "name": "stderr",
     "output_type": "stream",
     "text": [
      "[Parallel(n_jobs=16)]: Done  10 out of  10 | elapsed:   29.1s finished\n",
      "[Parallel(n_jobs=10)]: Using backend ThreadingBackend with 10 concurrent workers.\n",
      "[Parallel(n_jobs=10)]: Done   2 out of  10 | elapsed:    0.0s remaining:    0.0s\n",
      "[Parallel(n_jobs=10)]: Done  10 out of  10 | elapsed:    0.0s finished\n"
     ]
    },
    {
     "name": "stdout",
     "output_type": "stream",
     "text": [
      "Training - Input shape: (10, 14400), Target shape: (10, 72000)\n",
      "Forward - Input shape: (10, 14400), Target shape: (10, 72000)\n"
     ]
    },
    {
     "name": "stderr",
     "output_type": "stream",
     "text": [
      "[Parallel(n_jobs=16)]: Using backend ThreadingBackend with 16 concurrent workers.\n"
     ]
    },
    {
     "name": "stdout",
     "output_type": "stream",
     "text": [
      "Loss - y_pred shape: torch.Size([10, 80, 180, 5]), y shape: torch.Size([10, 80, 180, 5])\n",
      "Epoch 0:  65%|██████▌   | 13/20 [06:19<03:24,  0.03it/s, v_num=21, train_loss=0.122]"
     ]
    },
    {
     "name": "stderr",
     "output_type": "stream",
     "text": [
      "[Parallel(n_jobs=16)]: Done  10 out of  10 | elapsed:   28.6s finished\n",
      "[Parallel(n_jobs=10)]: Using backend ThreadingBackend with 10 concurrent workers.\n",
      "[Parallel(n_jobs=10)]: Done   2 out of  10 | elapsed:    0.0s remaining:    0.0s\n",
      "[Parallel(n_jobs=10)]: Done  10 out of  10 | elapsed:    0.0s finished\n"
     ]
    },
    {
     "name": "stdout",
     "output_type": "stream",
     "text": [
      "Training - Input shape: (10, 14400), Target shape: (10, 72000)\n",
      "Forward - Input shape: (10, 14400), Target shape: (10, 72000)\n"
     ]
    },
    {
     "name": "stderr",
     "output_type": "stream",
     "text": [
      "[Parallel(n_jobs=16)]: Using backend ThreadingBackend with 16 concurrent workers.\n"
     ]
    },
    {
     "name": "stdout",
     "output_type": "stream",
     "text": [
      "Loss - y_pred shape: torch.Size([10, 80, 180, 5]), y shape: torch.Size([10, 80, 180, 5])\n",
      "Epoch 0:  70%|███████   | 14/20 [06:48<02:54,  0.03it/s, v_num=21, train_loss=0.108]"
     ]
    },
    {
     "name": "stderr",
     "output_type": "stream",
     "text": [
      "[Parallel(n_jobs=16)]: Done  10 out of  10 | elapsed:   28.1s finished\n",
      "[Parallel(n_jobs=10)]: Using backend ThreadingBackend with 10 concurrent workers.\n",
      "[Parallel(n_jobs=10)]: Done   2 out of  10 | elapsed:    0.0s remaining:    0.0s\n",
      "[Parallel(n_jobs=10)]: Done  10 out of  10 | elapsed:    0.0s finished\n"
     ]
    },
    {
     "name": "stdout",
     "output_type": "stream",
     "text": [
      "Training - Input shape: (10, 14400), Target shape: (10, 72000)\n",
      "Forward - Input shape: (10, 14400), Target shape: (10, 72000)\n"
     ]
    },
    {
     "name": "stderr",
     "output_type": "stream",
     "text": [
      "[Parallel(n_jobs=16)]: Using backend ThreadingBackend with 16 concurrent workers.\n"
     ]
    },
    {
     "name": "stdout",
     "output_type": "stream",
     "text": [
      "Loss - y_pred shape: torch.Size([10, 80, 180, 5]), y shape: torch.Size([10, 80, 180, 5])\n",
      "Epoch 0:  75%|███████▌  | 15/20 [07:16<02:25,  0.03it/s, v_num=21, train_loss=0.162]"
     ]
    },
    {
     "name": "stderr",
     "output_type": "stream",
     "text": [
      "[Parallel(n_jobs=16)]: Done  10 out of  10 | elapsed:   28.0s finished\n",
      "[Parallel(n_jobs=10)]: Using backend ThreadingBackend with 10 concurrent workers.\n",
      "[Parallel(n_jobs=10)]: Done   2 out of  10 | elapsed:    0.0s remaining:    0.0s\n",
      "[Parallel(n_jobs=10)]: Done  10 out of  10 | elapsed:    0.0s finished\n"
     ]
    },
    {
     "name": "stdout",
     "output_type": "stream",
     "text": [
      "Training - Input shape: (10, 14400), Target shape: (10, 72000)\n",
      "Forward - Input shape: (10, 14400), Target shape: (10, 72000)\n"
     ]
    },
    {
     "name": "stderr",
     "output_type": "stream",
     "text": [
      "[Parallel(n_jobs=16)]: Using backend ThreadingBackend with 16 concurrent workers.\n"
     ]
    },
    {
     "name": "stdout",
     "output_type": "stream",
     "text": [
      "Loss - y_pred shape: torch.Size([10, 80, 180, 5]), y shape: torch.Size([10, 80, 180, 5])\n",
      "Epoch 0:  80%|████████  | 16/20 [07:46<01:56,  0.03it/s, v_num=21, train_loss=0.102]"
     ]
    },
    {
     "name": "stderr",
     "output_type": "stream",
     "text": [
      "[Parallel(n_jobs=16)]: Done  10 out of  10 | elapsed:   29.2s finished\n",
      "[Parallel(n_jobs=10)]: Using backend ThreadingBackend with 10 concurrent workers.\n",
      "[Parallel(n_jobs=10)]: Done   2 out of  10 | elapsed:    0.0s remaining:    0.0s\n",
      "[Parallel(n_jobs=10)]: Done  10 out of  10 | elapsed:    0.0s finished\n"
     ]
    },
    {
     "name": "stdout",
     "output_type": "stream",
     "text": [
      "Training - Input shape: (10, 14400), Target shape: (10, 72000)\n",
      "Forward - Input shape: (10, 14400), Target shape: (10, 72000)\n"
     ]
    },
    {
     "name": "stderr",
     "output_type": "stream",
     "text": [
      "[Parallel(n_jobs=16)]: Using backend ThreadingBackend with 16 concurrent workers.\n"
     ]
    },
    {
     "name": "stdout",
     "output_type": "stream",
     "text": [
      "Loss - y_pred shape: torch.Size([10, 80, 180, 5]), y shape: torch.Size([10, 80, 180, 5])\n",
      "Epoch 0:  85%|████████▌ | 17/20 [08:14<01:27,  0.03it/s, v_num=21, train_loss=0.132]"
     ]
    },
    {
     "name": "stderr",
     "output_type": "stream",
     "text": [
      "[Parallel(n_jobs=16)]: Done  10 out of  10 | elapsed:   27.6s finished\n",
      "[Parallel(n_jobs=10)]: Using backend ThreadingBackend with 10 concurrent workers.\n",
      "[Parallel(n_jobs=10)]: Done   2 out of  10 | elapsed:    0.0s remaining:    0.0s\n",
      "[Parallel(n_jobs=10)]: Done  10 out of  10 | elapsed:    0.0s finished\n"
     ]
    },
    {
     "name": "stdout",
     "output_type": "stream",
     "text": [
      "Training - Input shape: (10, 14400), Target shape: (10, 72000)\n",
      "Forward - Input shape: (10, 14400), Target shape: (10, 72000)\n"
     ]
    },
    {
     "name": "stderr",
     "output_type": "stream",
     "text": [
      "[Parallel(n_jobs=16)]: Using backend ThreadingBackend with 16 concurrent workers.\n"
     ]
    },
    {
     "name": "stdout",
     "output_type": "stream",
     "text": [
      "Loss - y_pred shape: torch.Size([10, 80, 180, 5]), y shape: torch.Size([10, 80, 180, 5])\n",
      "Epoch 0:  90%|█████████ | 18/20 [08:42<00:58,  0.03it/s, v_num=21, train_loss=0.107]"
     ]
    },
    {
     "name": "stderr",
     "output_type": "stream",
     "text": [
      "[Parallel(n_jobs=16)]: Done  10 out of  10 | elapsed:   27.4s finished\n",
      "[Parallel(n_jobs=10)]: Using backend ThreadingBackend with 10 concurrent workers.\n",
      "[Parallel(n_jobs=10)]: Done   2 out of  10 | elapsed:    0.0s remaining:    0.0s\n",
      "[Parallel(n_jobs=10)]: Done  10 out of  10 | elapsed:    0.0s finished\n"
     ]
    },
    {
     "name": "stdout",
     "output_type": "stream",
     "text": [
      "Training - Input shape: (10, 14400), Target shape: (10, 72000)\n",
      "Forward - Input shape: (10, 14400), Target shape: (10, 72000)\n"
     ]
    },
    {
     "name": "stderr",
     "output_type": "stream",
     "text": [
      "[Parallel(n_jobs=16)]: Using backend ThreadingBackend with 16 concurrent workers.\n"
     ]
    },
    {
     "name": "stdout",
     "output_type": "stream",
     "text": [
      "Loss - y_pred shape: torch.Size([10, 80, 180, 5]), y shape: torch.Size([10, 80, 180, 5])\n",
      "Epoch 0:  95%|█████████▌| 19/20 [09:11<00:29,  0.03it/s, v_num=21, train_loss=0.0952]"
     ]
    },
    {
     "name": "stderr",
     "output_type": "stream",
     "text": [
      "[Parallel(n_jobs=16)]: Done  10 out of  10 | elapsed:   28.9s finished\n",
      "[Parallel(n_jobs=10)]: Using backend ThreadingBackend with 10 concurrent workers.\n",
      "[Parallel(n_jobs=10)]: Done   2 out of  10 | elapsed:    0.0s remaining:    0.0s\n",
      "[Parallel(n_jobs=10)]: Done  10 out of  10 | elapsed:    0.0s finished\n",
      "[Parallel(n_jobs=16)]: Using backend ThreadingBackend with 16 concurrent workers.\n"
     ]
    },
    {
     "name": "stdout",
     "output_type": "stream",
     "text": [
      "Training - Input shape: (3, 14400), Target shape: (3, 72000)\n",
      "Forward - Input shape: (3, 14400), Target shape: (3, 72000)\n",
      "Loss - y_pred shape: torch.Size([3, 80, 180, 5]), y shape: torch.Size([3, 80, 180, 5])\n",
      "Epoch 1:   0%|          | 0/20 [00:00<?, ?it/s, v_num=21, train_loss=0.243]          "
     ]
    },
    {
     "name": "stderr",
     "output_type": "stream",
     "text": [
      "[Parallel(n_jobs=16)]: Done  10 out of  10 | elapsed:    3.6s finished\n",
      "[Parallel(n_jobs=10)]: Using backend ThreadingBackend with 10 concurrent workers.\n",
      "[Parallel(n_jobs=10)]: Done   2 out of  10 | elapsed:    0.0s remaining:    0.0s\n",
      "[Parallel(n_jobs=10)]: Done  10 out of  10 | elapsed:    0.0s finished\n"
     ]
    },
    {
     "name": "stdout",
     "output_type": "stream",
     "text": [
      "Training - Input shape: (10, 14400), Target shape: (10, 72000)\n",
      "Forward - Input shape: (10, 14400), Target shape: (10, 72000)\n"
     ]
    },
    {
     "name": "stderr",
     "output_type": "stream",
     "text": [
      "[Parallel(n_jobs=16)]: Using backend ThreadingBackend with 16 concurrent workers.\n"
     ]
    },
    {
     "name": "stdout",
     "output_type": "stream",
     "text": [
      "Loss - y_pred shape: torch.Size([10, 80, 180, 5]), y shape: torch.Size([10, 80, 180, 5])\n",
      "Epoch 1:   5%|▌         | 1/20 [00:32<10:26,  0.03it/s, v_num=21, train_loss=0.104]"
     ]
    },
    {
     "name": "stderr",
     "output_type": "stream",
     "text": [
      "[Parallel(n_jobs=16)]: Done  10 out of  10 | elapsed:   32.6s finished\n",
      "[Parallel(n_jobs=10)]: Using backend ThreadingBackend with 10 concurrent workers.\n",
      "[Parallel(n_jobs=10)]: Done   2 out of  10 | elapsed:    0.0s remaining:    0.0s\n",
      "[Parallel(n_jobs=10)]: Done  10 out of  10 | elapsed:    0.0s finished\n"
     ]
    },
    {
     "name": "stdout",
     "output_type": "stream",
     "text": [
      "Training - Input shape: (10, 14400), Target shape: (10, 72000)\n",
      "Forward - Input shape: (10, 14400), Target shape: (10, 72000)\n"
     ]
    },
    {
     "name": "stderr",
     "output_type": "stream",
     "text": [
      "[Parallel(n_jobs=16)]: Using backend ThreadingBackend with 16 concurrent workers.\n"
     ]
    },
    {
     "name": "stdout",
     "output_type": "stream",
     "text": [
      "Loss - y_pred shape: torch.Size([10, 80, 180, 5]), y shape: torch.Size([10, 80, 180, 5])\n",
      "Epoch 1:  10%|█         | 2/20 [01:01<09:12,  0.03it/s, v_num=21, train_loss=0.111]"
     ]
    },
    {
     "name": "stderr",
     "output_type": "stream",
     "text": [
      "[Parallel(n_jobs=16)]: Done  10 out of  10 | elapsed:   28.1s finished\n",
      "[Parallel(n_jobs=10)]: Using backend ThreadingBackend with 10 concurrent workers.\n",
      "[Parallel(n_jobs=10)]: Done   2 out of  10 | elapsed:    0.0s remaining:    0.0s\n",
      "[Parallel(n_jobs=10)]: Done  10 out of  10 | elapsed:    0.0s finished\n"
     ]
    },
    {
     "name": "stdout",
     "output_type": "stream",
     "text": [
      "Training - Input shape: (10, 14400), Target shape: (10, 72000)\n",
      "Forward - Input shape: (10, 14400), Target shape: (10, 72000)\n"
     ]
    },
    {
     "name": "stderr",
     "output_type": "stream",
     "text": [
      "[Parallel(n_jobs=16)]: Using backend ThreadingBackend with 16 concurrent workers.\n"
     ]
    },
    {
     "name": "stdout",
     "output_type": "stream",
     "text": [
      "Loss - y_pred shape: torch.Size([10, 80, 180, 5]), y shape: torch.Size([10, 80, 180, 5])\n",
      "Epoch 1:  15%|█▌        | 3/20 [01:31<08:37,  0.03it/s, v_num=21, train_loss=0.143]"
     ]
    },
    {
     "name": "stderr",
     "output_type": "stream",
     "text": [
      "[Parallel(n_jobs=16)]: Done  10 out of  10 | elapsed:   29.7s finished\n",
      "[Parallel(n_jobs=10)]: Using backend ThreadingBackend with 10 concurrent workers.\n",
      "[Parallel(n_jobs=10)]: Done   2 out of  10 | elapsed:    0.0s remaining:    0.0s\n",
      "[Parallel(n_jobs=10)]: Done  10 out of  10 | elapsed:    0.0s finished\n"
     ]
    },
    {
     "name": "stdout",
     "output_type": "stream",
     "text": [
      "Training - Input shape: (10, 14400), Target shape: (10, 72000)\n",
      "Forward - Input shape: (10, 14400), Target shape: (10, 72000)\n"
     ]
    },
    {
     "name": "stderr",
     "output_type": "stream",
     "text": [
      "[Parallel(n_jobs=16)]: Using backend ThreadingBackend with 16 concurrent workers.\n"
     ]
    },
    {
     "name": "stdout",
     "output_type": "stream",
     "text": [
      "Loss - y_pred shape: torch.Size([10, 80, 180, 5]), y shape: torch.Size([10, 80, 180, 5])\n",
      "Epoch 1:  20%|██        | 4/20 [02:00<08:02,  0.03it/s, v_num=21, train_loss=0.0806]"
     ]
    },
    {
     "name": "stderr",
     "output_type": "stream",
     "text": [
      "[Parallel(n_jobs=16)]: Done  10 out of  10 | elapsed:   28.9s finished\n",
      "[Parallel(n_jobs=10)]: Using backend ThreadingBackend with 10 concurrent workers.\n",
      "[Parallel(n_jobs=10)]: Done   2 out of  10 | elapsed:    0.0s remaining:    0.0s\n",
      "[Parallel(n_jobs=10)]: Done  10 out of  10 | elapsed:    0.0s finished\n",
      "[Parallel(n_jobs=16)]: Using backend ThreadingBackend with 16 concurrent workers.\n"
     ]
    },
    {
     "name": "stdout",
     "output_type": "stream",
     "text": [
      "Training - Input shape: (10, 14400), Target shape: (10, 72000)\n",
      "Forward - Input shape: (10, 14400), Target shape: (10, 72000)\n",
      "Loss - y_pred shape: torch.Size([10, 80, 180, 5]), y shape: torch.Size([10, 80, 180, 5])\n",
      "Epoch 1:  25%|██▌       | 5/20 [02:29<07:27,  0.03it/s, v_num=21, train_loss=0.142] "
     ]
    },
    {
     "name": "stderr",
     "output_type": "stream",
     "text": [
      "[Parallel(n_jobs=16)]: Done  10 out of  10 | elapsed:   28.3s finished\n",
      "[Parallel(n_jobs=10)]: Using backend ThreadingBackend with 10 concurrent workers.\n",
      "[Parallel(n_jobs=10)]: Done   2 out of  10 | elapsed:    0.0s remaining:    0.0s\n",
      "[Parallel(n_jobs=10)]: Done  10 out of  10 | elapsed:    0.0s finished\n"
     ]
    },
    {
     "name": "stdout",
     "output_type": "stream",
     "text": [
      "Training - Input shape: (10, 14400), Target shape: (10, 72000)\n",
      "Forward - Input shape: (10, 14400), Target shape: (10, 72000)\n"
     ]
    },
    {
     "name": "stderr",
     "output_type": "stream",
     "text": [
      "[Parallel(n_jobs=16)]: Using backend ThreadingBackend with 16 concurrent workers.\n"
     ]
    },
    {
     "name": "stdout",
     "output_type": "stream",
     "text": [
      "Loss - y_pred shape: torch.Size([10, 80, 180, 5]), y shape: torch.Size([10, 80, 180, 5])\n",
      "Epoch 1:  30%|███       | 6/20 [02:57<06:54,  0.03it/s, v_num=21, train_loss=0.180]"
     ]
    },
    {
     "name": "stderr",
     "output_type": "stream",
     "text": [
      "[Parallel(n_jobs=16)]: Done  10 out of  10 | elapsed:   28.3s finished\n",
      "[Parallel(n_jobs=10)]: Using backend ThreadingBackend with 10 concurrent workers.\n",
      "[Parallel(n_jobs=10)]: Done   2 out of  10 | elapsed:    0.0s remaining:    0.0s\n",
      "[Parallel(n_jobs=10)]: Done  10 out of  10 | elapsed:    0.0s finished\n",
      "[Parallel(n_jobs=16)]: Using backend ThreadingBackend with 16 concurrent workers.\n"
     ]
    },
    {
     "name": "stdout",
     "output_type": "stream",
     "text": [
      "Training - Input shape: (10, 14400), Target shape: (10, 72000)\n",
      "Forward - Input shape: (10, 14400), Target shape: (10, 72000)\n",
      "Loss - y_pred shape: torch.Size([10, 80, 180, 5]), y shape: torch.Size([10, 80, 180, 5])\n",
      "Epoch 1:  35%|███▌      | 7/20 [03:28<06:28,  0.03it/s, v_num=21, train_loss=0.0826]"
     ]
    },
    {
     "name": "stderr",
     "output_type": "stream",
     "text": [
      "[Parallel(n_jobs=16)]: Done  10 out of  10 | elapsed:   30.8s finished\n",
      "[Parallel(n_jobs=10)]: Using backend ThreadingBackend with 10 concurrent workers.\n",
      "[Parallel(n_jobs=10)]: Done   2 out of  10 | elapsed:    0.0s remaining:    0.0s\n",
      "[Parallel(n_jobs=10)]: Done  10 out of  10 | elapsed:    0.0s finished\n"
     ]
    },
    {
     "name": "stdout",
     "output_type": "stream",
     "text": [
      "Training - Input shape: (10, 14400), Target shape: (10, 72000)\n",
      "Forward - Input shape: (10, 14400), Target shape: (10, 72000)\n"
     ]
    },
    {
     "name": "stderr",
     "output_type": "stream",
     "text": [
      "[Parallel(n_jobs=16)]: Using backend ThreadingBackend with 16 concurrent workers.\n"
     ]
    },
    {
     "name": "stdout",
     "output_type": "stream",
     "text": [
      "Loss - y_pred shape: torch.Size([10, 80, 180, 5]), y shape: torch.Size([10, 80, 180, 5])\n",
      "Epoch 1:  40%|████      | 8/20 [03:57<05:56,  0.03it/s, v_num=21, train_loss=0.118] "
     ]
    },
    {
     "name": "stderr",
     "output_type": "stream",
     "text": [
      "[Parallel(n_jobs=16)]: Done  10 out of  10 | elapsed:   28.3s finished\n",
      "[Parallel(n_jobs=10)]: Using backend ThreadingBackend with 10 concurrent workers.\n",
      "[Parallel(n_jobs=10)]: Done   2 out of  10 | elapsed:    0.0s remaining:    0.0s\n",
      "[Parallel(n_jobs=10)]: Done  10 out of  10 | elapsed:    0.0s finished\n"
     ]
    },
    {
     "name": "stdout",
     "output_type": "stream",
     "text": [
      "Training - Input shape: (10, 14400), Target shape: (10, 72000)\n",
      "Forward - Input shape: (10, 14400), Target shape: (10, 72000)\n"
     ]
    },
    {
     "name": "stderr",
     "output_type": "stream",
     "text": [
      "[Parallel(n_jobs=16)]: Using backend ThreadingBackend with 16 concurrent workers.\n"
     ]
    },
    {
     "name": "stdout",
     "output_type": "stream",
     "text": [
      "Loss - y_pred shape: torch.Size([10, 80, 180, 5]), y shape: torch.Size([10, 80, 180, 5])\n",
      "Epoch 1:  45%|████▌     | 9/20 [04:27<05:27,  0.03it/s, v_num=21, train_loss=0.145]"
     ]
    },
    {
     "name": "stderr",
     "output_type": "stream",
     "text": [
      "[Parallel(n_jobs=16)]: Done  10 out of  10 | elapsed:   29.8s finished\n",
      "[Parallel(n_jobs=10)]: Using backend ThreadingBackend with 10 concurrent workers.\n",
      "[Parallel(n_jobs=10)]: Done   2 out of  10 | elapsed:    0.0s remaining:    0.0s\n",
      "[Parallel(n_jobs=10)]: Done  10 out of  10 | elapsed:    0.0s finished\n"
     ]
    },
    {
     "name": "stdout",
     "output_type": "stream",
     "text": [
      "Training - Input shape: (10, 14400), Target shape: (10, 72000)\n",
      "Forward - Input shape: (10, 14400), Target shape: (10, 72000)\n"
     ]
    },
    {
     "name": "stderr",
     "output_type": "stream",
     "text": [
      "[Parallel(n_jobs=16)]: Using backend ThreadingBackend with 16 concurrent workers.\n"
     ]
    },
    {
     "name": "stdout",
     "output_type": "stream",
     "text": [
      "Loss - y_pred shape: torch.Size([10, 80, 180, 5]), y shape: torch.Size([10, 80, 180, 5])\n",
      "Epoch 1:  50%|█████     | 10/20 [04:56<04:56,  0.03it/s, v_num=21, train_loss=0.0972]"
     ]
    },
    {
     "name": "stderr",
     "output_type": "stream",
     "text": [
      "[Parallel(n_jobs=16)]: Done  10 out of  10 | elapsed:   28.8s finished\n",
      "[Parallel(n_jobs=10)]: Using backend ThreadingBackend with 10 concurrent workers.\n",
      "[Parallel(n_jobs=10)]: Done   2 out of  10 | elapsed:    0.0s remaining:    0.0s\n",
      "[Parallel(n_jobs=10)]: Done  10 out of  10 | elapsed:    0.0s finished\n"
     ]
    },
    {
     "name": "stdout",
     "output_type": "stream",
     "text": [
      "Training - Input shape: (10, 14400), Target shape: (10, 72000)\n",
      "Forward - Input shape: (10, 14400), Target shape: (10, 72000)\n"
     ]
    },
    {
     "name": "stderr",
     "output_type": "stream",
     "text": [
      "[Parallel(n_jobs=16)]: Using backend ThreadingBackend with 16 concurrent workers.\n"
     ]
    },
    {
     "name": "stdout",
     "output_type": "stream",
     "text": [
      "Loss - y_pred shape: torch.Size([10, 80, 180, 5]), y shape: torch.Size([10, 80, 180, 5])\n",
      "Epoch 1:  55%|█████▌    | 11/20 [05:25<04:26,  0.03it/s, v_num=21, train_loss=0.113] "
     ]
    },
    {
     "name": "stderr",
     "output_type": "stream",
     "text": [
      "[Parallel(n_jobs=16)]: Done  10 out of  10 | elapsed:   28.1s finished\n",
      "[Parallel(n_jobs=10)]: Using backend ThreadingBackend with 10 concurrent workers.\n",
      "[Parallel(n_jobs=10)]: Done   2 out of  10 | elapsed:    0.0s remaining:    0.0s\n",
      "[Parallel(n_jobs=10)]: Done  10 out of  10 | elapsed:    0.0s finished\n"
     ]
    },
    {
     "name": "stdout",
     "output_type": "stream",
     "text": [
      "Training - Input shape: (10, 14400), Target shape: (10, 72000)\n",
      "Forward - Input shape: (10, 14400), Target shape: (10, 72000)\n"
     ]
    },
    {
     "name": "stderr",
     "output_type": "stream",
     "text": [
      "[Parallel(n_jobs=16)]: Using backend ThreadingBackend with 16 concurrent workers.\n"
     ]
    },
    {
     "name": "stdout",
     "output_type": "stream",
     "text": [
      "Loss - y_pred shape: torch.Size([10, 80, 180, 5]), y shape: torch.Size([10, 80, 180, 5])\n",
      "Epoch 1:  60%|██████    | 12/20 [05:54<03:56,  0.03it/s, v_num=21, train_loss=0.153]"
     ]
    },
    {
     "name": "stderr",
     "output_type": "stream",
     "text": [
      "[Parallel(n_jobs=16)]: Done  10 out of  10 | elapsed:   28.6s finished\n",
      "[Parallel(n_jobs=10)]: Using backend ThreadingBackend with 10 concurrent workers.\n",
      "[Parallel(n_jobs=10)]: Done   2 out of  10 | elapsed:    0.0s remaining:    0.0s\n",
      "[Parallel(n_jobs=10)]: Done  10 out of  10 | elapsed:    0.0s finished\n"
     ]
    },
    {
     "name": "stdout",
     "output_type": "stream",
     "text": [
      "Training - Input shape: (10, 14400), Target shape: (10, 72000)\n",
      "Forward - Input shape: (10, 14400), Target shape: (10, 72000)\n"
     ]
    },
    {
     "name": "stderr",
     "output_type": "stream",
     "text": [
      "[Parallel(n_jobs=16)]: Using backend ThreadingBackend with 16 concurrent workers.\n"
     ]
    },
    {
     "name": "stdout",
     "output_type": "stream",
     "text": [
      "Loss - y_pred shape: torch.Size([10, 80, 180, 5]), y shape: torch.Size([10, 80, 180, 5])\n",
      "Epoch 1:  65%|██████▌   | 13/20 [06:23<03:26,  0.03it/s, v_num=21, train_loss=0.122]"
     ]
    },
    {
     "name": "stderr",
     "output_type": "stream",
     "text": [
      "[Parallel(n_jobs=16)]: Done  10 out of  10 | elapsed:   28.9s finished\n",
      "[Parallel(n_jobs=10)]: Using backend ThreadingBackend with 10 concurrent workers.\n",
      "[Parallel(n_jobs=10)]: Done   2 out of  10 | elapsed:    0.0s remaining:    0.0s\n",
      "[Parallel(n_jobs=10)]: Done  10 out of  10 | elapsed:    0.0s finished\n",
      "[Parallel(n_jobs=16)]: Using backend ThreadingBackend with 16 concurrent workers.\n"
     ]
    },
    {
     "name": "stdout",
     "output_type": "stream",
     "text": [
      "Training - Input shape: (10, 14400), Target shape: (10, 72000)\n",
      "Forward - Input shape: (10, 14400), Target shape: (10, 72000)\n",
      "Loss - y_pred shape: torch.Size([10, 80, 180, 5]), y shape: torch.Size([10, 80, 180, 5])\n",
      "Epoch 1:  70%|███████   | 14/20 [06:51<02:56,  0.03it/s, v_num=21, train_loss=0.108]"
     ]
    },
    {
     "name": "stderr",
     "output_type": "stream",
     "text": [
      "[Parallel(n_jobs=16)]: Done  10 out of  10 | elapsed:   28.2s finished\n",
      "[Parallel(n_jobs=10)]: Using backend ThreadingBackend with 10 concurrent workers.\n",
      "[Parallel(n_jobs=10)]: Done   2 out of  10 | elapsed:    0.0s remaining:    0.0s\n",
      "[Parallel(n_jobs=10)]: Done  10 out of  10 | elapsed:    0.0s finished\n"
     ]
    },
    {
     "name": "stdout",
     "output_type": "stream",
     "text": [
      "Training - Input shape: (10, 14400), Target shape: (10, 72000)\n",
      "Forward - Input shape: (10, 14400), Target shape: (10, 72000)\n"
     ]
    },
    {
     "name": "stderr",
     "output_type": "stream",
     "text": [
      "[Parallel(n_jobs=16)]: Using backend ThreadingBackend with 16 concurrent workers.\n"
     ]
    },
    {
     "name": "stdout",
     "output_type": "stream",
     "text": [
      "Loss - y_pred shape: torch.Size([10, 80, 180, 5]), y shape: torch.Size([10, 80, 180, 5])\n",
      "Epoch 1:  75%|███████▌  | 15/20 [07:21<02:27,  0.03it/s, v_num=21, train_loss=0.162]"
     ]
    },
    {
     "name": "stderr",
     "output_type": "stream",
     "text": [
      "[Parallel(n_jobs=16)]: Done  10 out of  10 | elapsed:   28.9s finished\n",
      "[Parallel(n_jobs=10)]: Using backend ThreadingBackend with 10 concurrent workers.\n",
      "[Parallel(n_jobs=10)]: Done   2 out of  10 | elapsed:    0.0s remaining:    0.0s\n",
      "[Parallel(n_jobs=10)]: Done  10 out of  10 | elapsed:    0.0s finished\n"
     ]
    },
    {
     "name": "stdout",
     "output_type": "stream",
     "text": [
      "Training - Input shape: (10, 14400), Target shape: (10, 72000)\n",
      "Forward - Input shape: (10, 14400), Target shape: (10, 72000)\n"
     ]
    },
    {
     "name": "stderr",
     "output_type": "stream",
     "text": [
      "[Parallel(n_jobs=16)]: Using backend ThreadingBackend with 16 concurrent workers.\n"
     ]
    },
    {
     "name": "stdout",
     "output_type": "stream",
     "text": [
      "Loss - y_pred shape: torch.Size([10, 80, 180, 5]), y shape: torch.Size([10, 80, 180, 5])\n",
      "Epoch 1:  80%|████████  | 16/20 [07:51<01:57,  0.03it/s, v_num=21, train_loss=0.102]"
     ]
    },
    {
     "name": "stderr",
     "output_type": "stream",
     "text": [
      "[Parallel(n_jobs=16)]: Done  10 out of  10 | elapsed:   30.3s finished\n",
      "[Parallel(n_jobs=10)]: Using backend ThreadingBackend with 10 concurrent workers.\n",
      "[Parallel(n_jobs=10)]: Done   2 out of  10 | elapsed:    0.0s remaining:    0.0s\n",
      "[Parallel(n_jobs=10)]: Done  10 out of  10 | elapsed:    0.0s finished\n"
     ]
    },
    {
     "name": "stdout",
     "output_type": "stream",
     "text": [
      "Training - Input shape: (10, 14400), Target shape: (10, 72000)\n",
      "Forward - Input shape: (10, 14400), Target shape: (10, 72000)\n"
     ]
    },
    {
     "name": "stderr",
     "output_type": "stream",
     "text": [
      "[Parallel(n_jobs=16)]: Using backend ThreadingBackend with 16 concurrent workers.\n"
     ]
    },
    {
     "name": "stdout",
     "output_type": "stream",
     "text": [
      "Loss - y_pred shape: torch.Size([10, 80, 180, 5]), y shape: torch.Size([10, 80, 180, 5])\n",
      "Epoch 1:  85%|████████▌ | 17/20 [08:20<01:28,  0.03it/s, v_num=21, train_loss=0.132]"
     ]
    },
    {
     "name": "stderr",
     "output_type": "stream",
     "text": [
      "[Parallel(n_jobs=16)]: Done  10 out of  10 | elapsed:   28.2s finished\n",
      "[Parallel(n_jobs=10)]: Using backend ThreadingBackend with 10 concurrent workers.\n",
      "[Parallel(n_jobs=10)]: Done   2 out of  10 | elapsed:    0.0s remaining:    0.0s\n",
      "[Parallel(n_jobs=10)]: Done  10 out of  10 | elapsed:    0.0s finished\n"
     ]
    },
    {
     "name": "stdout",
     "output_type": "stream",
     "text": [
      "Training - Input shape: (10, 14400), Target shape: (10, 72000)\n",
      "Forward - Input shape: (10, 14400), Target shape: (10, 72000)\n"
     ]
    },
    {
     "name": "stderr",
     "output_type": "stream",
     "text": [
      "[Parallel(n_jobs=16)]: Using backend ThreadingBackend with 16 concurrent workers.\n"
     ]
    },
    {
     "name": "stdout",
     "output_type": "stream",
     "text": [
      "Loss - y_pred shape: torch.Size([10, 80, 180, 5]), y shape: torch.Size([10, 80, 180, 5])\n",
      "Epoch 1:  90%|█████████ | 18/20 [08:47<00:58,  0.03it/s, v_num=21, train_loss=0.107]"
     ]
    },
    {
     "name": "stderr",
     "output_type": "stream",
     "text": [
      "[Parallel(n_jobs=16)]: Done  10 out of  10 | elapsed:   27.4s finished\n",
      "[Parallel(n_jobs=10)]: Using backend ThreadingBackend with 10 concurrent workers.\n",
      "[Parallel(n_jobs=10)]: Done   2 out of  10 | elapsed:    0.0s remaining:    0.0s\n",
      "[Parallel(n_jobs=10)]: Done  10 out of  10 | elapsed:    0.0s finished\n"
     ]
    },
    {
     "name": "stdout",
     "output_type": "stream",
     "text": [
      "Training - Input shape: (10, 14400), Target shape: (10, 72000)\n",
      "Forward - Input shape: (10, 14400), Target shape: (10, 72000)\n"
     ]
    },
    {
     "name": "stderr",
     "output_type": "stream",
     "text": [
      "[Parallel(n_jobs=16)]: Using backend ThreadingBackend with 16 concurrent workers.\n"
     ]
    },
    {
     "name": "stdout",
     "output_type": "stream",
     "text": [
      "Loss - y_pred shape: torch.Size([10, 80, 180, 5]), y shape: torch.Size([10, 80, 180, 5])\n",
      "Epoch 1:  95%|█████████▌| 19/20 [09:17<00:29,  0.03it/s, v_num=21, train_loss=0.0952]"
     ]
    },
    {
     "name": "stderr",
     "output_type": "stream",
     "text": [
      "[Parallel(n_jobs=16)]: Done  10 out of  10 | elapsed:   28.7s finished\n",
      "[Parallel(n_jobs=10)]: Using backend ThreadingBackend with 10 concurrent workers.\n",
      "[Parallel(n_jobs=10)]: Done   2 out of  10 | elapsed:    0.0s remaining:    0.0s\n",
      "[Parallel(n_jobs=10)]: Done  10 out of  10 | elapsed:    0.0s finished\n",
      "[Parallel(n_jobs=16)]: Using backend ThreadingBackend with 16 concurrent workers.\n"
     ]
    },
    {
     "name": "stdout",
     "output_type": "stream",
     "text": [
      "Training - Input shape: (3, 14400), Target shape: (3, 72000)\n",
      "Forward - Input shape: (3, 14400), Target shape: (3, 72000)\n",
      "Loss - y_pred shape: torch.Size([3, 80, 180, 5]), y shape: torch.Size([3, 80, 180, 5])\n",
      "Epoch 1: 100%|██████████| 20/20 [09:20<00:00,  0.04it/s, v_num=21, train_loss=0.243] "
     ]
    },
    {
     "name": "stderr",
     "output_type": "stream",
     "text": [
      "[Parallel(n_jobs=16)]: Done  10 out of  10 | elapsed:    3.6s finished\n",
      "[Parallel(n_jobs=10)]: Using backend ThreadingBackend with 10 concurrent workers.\n",
      "[Parallel(n_jobs=10)]: Done   2 out of  10 | elapsed:    0.0s remaining:    0.0s\n",
      "[Parallel(n_jobs=10)]: Done  10 out of  10 | elapsed:    0.0s finished\n",
      "`Trainer.fit` stopped: `max_epochs=2` reached.\n"
     ]
    },
    {
     "name": "stdout",
     "output_type": "stream",
     "text": [
      "Epoch 1: 100%|██████████| 20/20 [09:20<00:00,  0.04it/s, v_num=21, train_loss=0.243]\n",
      "Model: RDFNetwork Training Ended at: 2025-09-07 15:40:12\n",
      "Model: RDFNetwork Training Duration: 0:18:36\n",
      "================================================\n",
      "file_name: rf\n"
     ]
    }
   ],
   "source": [
    "from src.config.area import Area\n",
    "from src.trainer.base import BaseTrainer\n",
    "from src.dataset.Argo import Argo3DTemperatureDataset\n",
    "from src.models.RDF import RDFNetwork\n",
    "\n",
    "area = Area(\"global_rf_model\", [-180, 180], [-80, 80], \"global\")\n",
    "\n",
    "dataset_params = {\n",
    "    \"depth\": [0, 5],\n",
    "    \"resolution\": 2\n",
    "}\n",
    "\n",
    "# 训练器参数\n",
    "trainer_params = {\n",
    "    \"epochs\": 2,\n",
    "    \"batch_size\": 10,\n",
    "}\n",
    "\n",
    "# 随机森林模型参数\n",
    "model_params = {\n",
    "    \"n_estimators\": 10,\n",
    "    \"random_state\": 42,\n",
    "}\n",
    "\n",
    "rf_trainer = BaseTrainer(\n",
    "    uid=\"rf\",\n",
    "    title=\"rf\",\n",
    "    area=area,\n",
    "    model_class=RDFNetwork,\n",
    "    dataset_class=Argo3DTemperatureDataset,\n",
    "    save_path=\"X:/WorkSpace/tensorflow/out/models/rf_global.pkl\",\n",
    "    pre_model=None,\n",
    "    dataset_params=dataset_params,\n",
    "    trainer_params=trainer_params,\n",
    "    model_params=model_params\n",
    ")\n",
    "\n",
    "model = rf_trainer.train()\n"
   ]
  }
 ],
 "metadata": {
  "kernelspec": {
   "display_name": ".venv",
   "language": "python",
   "name": "python3"
  },
  "language_info": {
   "codemirror_mode": {
    "name": "ipython",
    "version": 3
   },
   "file_extension": ".py",
   "mimetype": "text/x-python",
   "name": "python",
   "nbconvert_exporter": "python",
   "pygments_lexer": "ipython3",
   "version": "3.13.6"
  }
 },
 "nbformat": 4,
 "nbformat_minor": 2
}
