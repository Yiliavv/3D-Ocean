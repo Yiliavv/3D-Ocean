{
 "cells": [
  {
   "metadata": {},
   "cell_type": "code",
   "outputs": [],
   "execution_count": null,
   "source": "# 主程序 -- 两个模型的训练和预测",
   "id": "2a8189baf5b4bf3a"
  }
 ],
 "metadata": {},
 "nbformat": 5,
 "nbformat_minor": 9
}
