{
 "cells": [
  {
   "cell_type": "code",
   "id": "initial_id",
   "metadata": {
    "collapsed": true,
    "ExecuteTime": {
     "end_time": "2024-12-03T11:56:31.042495Z",
     "start_time": "2024-12-03T11:56:09.681730Z"
    }
   },
   "source": [
    "%load_ext autoreload\n",
    "%autoreload 2\n",
    "\n",
    "import torch\n",
    "\n",
    "device = (\n",
    "    \"cuda\"\n",
    "    if torch.cuda.is_available()\n",
    "    else \"mps\"\n",
    "    if torch.backends.mps.is_available()\n",
    "    else \"cpu\"\n",
    ")\n",
    "print(f\"Using {device} device\")"
   ],
   "outputs": [
    {
     "name": "stdout",
     "output_type": "stream",
     "text": [
      "Using cuda device\n"
     ]
    }
   ],
   "execution_count": 1
  },
  {
   "metadata": {
    "ExecuteTime": {
     "end_time": "2024-12-03T11:43:55.735957Z",
     "start_time": "2024-12-03T11:43:55.301107Z"
    }
   },
   "cell_type": "code",
   "source": [
    "# 比较同一个数据，pytorch 和 keras 在同一个模型上是否输出相同\n",
    "import torch\n",
    "some_tensor = torch.tensor([\n",
    "    [\n",
    "        [2, 5, 4, 5, 6],\n",
    "        [7, 8, 1, 2, 2],\n",
    "        [2, 5, 4, 5, 6],\n",
    "        [7, 8, 1, 2, 2],\n",
    "        [2, 5, 4, 5, 6],\n",
    "    ],\n",
    "    [\n",
    "        [2, 5, 4, 5, 6],\n",
    "        [7, 8, 1, 2, 2],\n",
    "        [2, 5, 4, 5, 6],\n",
    "        [7, 8, 1, 2, 2],\n",
    "        [2, 5, 4, 5, 6],\n",
    "    ],\n",
    "    [\n",
    "        [2, 5, 4, 5, 6],\n",
    "        [7, 8, 1, 2, 2],\n",
    "        [2, 5, 4, 5, 6],\n",
    "        [7, 8, 1, 2, 2],\n",
    "        [2, 5, 4, 5, 6],\n",
    "    ],\n",
    "    [\n",
    "        [2, 5, 4, 5, 6],\n",
    "        [7, 8, 1, 2, 2],\n",
    "        [2, 5, 4, 5, 6],\n",
    "        [7, 8, 1, 2, 2],\n",
    "        [2, 5, 4, 5, 6],\n",
    "    ]\n",
    "])\n",
    "other_tensor = torch.tensor([\n",
    "    [\n",
    "        [ 2, 5, 3, 2, 1],\n",
    "        [ 2, 4, 4, 2, 2],\n",
    "        [ 2, 4, 4, 2, 2],\n",
    "        [ 2, 4, 4, 2, 2],\n",
    "        [ 2, 4, 4, 2, 2]\n",
    "    ]\n",
    "])\n",
    "\n",
    "from models.Transformer import SSTTransformer\n",
    "\n",
    "model = SSTTransformer([5, 5])\n",
    "\n",
    "output = model(some_tensor, other_tensor)\n",
    "\n",
    "print(output.shape)\n",
    "print(output)"
   ],
   "id": "75ca7d267e928a68",
   "outputs": [
    {
     "ename": "RuntimeError",
     "evalue": "The size of tensor a (5) must match the size of tensor b (256) at non-singleton dimension 1",
     "output_type": "error",
     "traceback": [
      "\u001B[1;31m---------------------------------------------------------------------------\u001B[0m",
      "\u001B[1;31mRuntimeError\u001B[0m                              Traceback (most recent call last)",
      "Cell \u001B[1;32mIn[6], line 45\u001B[0m\n\u001B[0;32m     33\u001B[0m other_tensor \u001B[38;5;241m=\u001B[39m torch\u001B[38;5;241m.\u001B[39mtensor([\n\u001B[0;32m     34\u001B[0m     [\n\u001B[0;32m     35\u001B[0m         [ \u001B[38;5;241m2\u001B[39m, \u001B[38;5;241m5\u001B[39m, \u001B[38;5;241m3\u001B[39m, \u001B[38;5;241m2\u001B[39m, \u001B[38;5;241m1\u001B[39m],\n\u001B[1;32m   (...)\u001B[0m\n\u001B[0;32m     40\u001B[0m     ]\n\u001B[0;32m     41\u001B[0m ])\n\u001B[0;32m     43\u001B[0m \u001B[38;5;28;01mfrom\u001B[39;00m \u001B[38;5;21;01mmodels\u001B[39;00m\u001B[38;5;21;01m.\u001B[39;00m\u001B[38;5;21;01mTransformer\u001B[39;00m \u001B[38;5;28;01mimport\u001B[39;00m SSTTransformer\n\u001B[1;32m---> 45\u001B[0m model \u001B[38;5;241m=\u001B[39m \u001B[43mSSTTransformer\u001B[49m\u001B[43m(\u001B[49m\u001B[43m[\u001B[49m\u001B[38;5;241;43m5\u001B[39;49m\u001B[43m,\u001B[49m\u001B[43m \u001B[49m\u001B[38;5;241;43m5\u001B[39;49m\u001B[43m]\u001B[49m\u001B[43m)\u001B[49m\n\u001B[0;32m     47\u001B[0m output \u001B[38;5;241m=\u001B[39m model(some_tensor, other_tensor)\n\u001B[0;32m     49\u001B[0m \u001B[38;5;28mprint\u001B[39m(output\u001B[38;5;241m.\u001B[39mshape)\n",
      "File \u001B[1;32mD:\\tensorflow\\src\\models\\Transformer.py:20\u001B[0m, in \u001B[0;36mSSTTransformer.__init__\u001B[1;34m(self, shape)\u001B[0m\n\u001B[0;32m     13\u001B[0m \u001B[38;5;66;03m# Transformer编码器-解码器\u001B[39;00m\n\u001B[0;32m     14\u001B[0m \u001B[38;5;28mself\u001B[39m\u001B[38;5;241m.\u001B[39mtransformer \u001B[38;5;241m=\u001B[39m Transformer(d_model\u001B[38;5;241m=\u001B[39m\u001B[38;5;241m512\u001B[39m, nhead\u001B[38;5;241m=\u001B[39m\u001B[38;5;241m8\u001B[39m,\n\u001B[0;32m     15\u001B[0m                                num_encoder_layers\u001B[38;5;241m=\u001B[39m\u001B[38;5;241m6\u001B[39m,\n\u001B[0;32m     16\u001B[0m                                num_decoder_layers\u001B[38;5;241m=\u001B[39m\u001B[38;5;241m6\u001B[39m,\n\u001B[0;32m     17\u001B[0m                                dim_feedforward\u001B[38;5;241m=\u001B[39m\u001B[38;5;241m2048\u001B[39m,\n\u001B[0;32m     18\u001B[0m                                dropout\u001B[38;5;241m=\u001B[39m\u001B[38;5;241m0.2\u001B[39m, batch_first\u001B[38;5;241m=\u001B[39m\u001B[38;5;28;01mTrue\u001B[39;00m)\n\u001B[1;32m---> 20\u001B[0m \u001B[38;5;28mself\u001B[39m\u001B[38;5;241m.\u001B[39mposition_encoding \u001B[38;5;241m=\u001B[39m \u001B[43mPositionalEncoding\u001B[49m\u001B[43m(\u001B[49m\u001B[43mshape\u001B[49m\u001B[43m[\u001B[49m\u001B[38;5;241;43m0\u001B[39;49m\u001B[43m]\u001B[49m\u001B[43m,\u001B[49m\u001B[43m \u001B[49m\u001B[43mshape\u001B[49m\u001B[43m[\u001B[49m\u001B[38;5;241;43m1\u001B[39;49m\u001B[43m]\u001B[49m\u001B[43m,\u001B[49m\u001B[43m \u001B[49m\u001B[38;5;241;43m512\u001B[39;49m\u001B[43m)\u001B[49m\n\u001B[0;32m     22\u001B[0m \u001B[38;5;28mself\u001B[39m\u001B[38;5;241m.\u001B[39mfc \u001B[38;5;241m=\u001B[39m Softmax(dim\u001B[38;5;241m=\u001B[39m\u001B[38;5;241m1\u001B[39m)\n\u001B[0;32m     24\u001B[0m \u001B[38;5;28mself\u001B[39m\u001B[38;5;241m.\u001B[39minitialize()\n",
      "File \u001B[1;32mD:\\tensorflow\\src\\models\\Transformer.py:60\u001B[0m, in \u001B[0;36mPositionalEncoding.__init__\u001B[1;34m(self, width, height, d_model)\u001B[0m\n\u001B[0;32m     56\u001B[0m position_y\u001B[38;5;241m.\u001B[39munsqueeze(\u001B[38;5;241m1\u001B[39m)\n\u001B[0;32m     58\u001B[0m div_term \u001B[38;5;241m=\u001B[39m exp(arange(\u001B[38;5;241m0\u001B[39m, d_model, \u001B[38;5;241m2\u001B[39m)\u001B[38;5;241m.\u001B[39mfloat() \u001B[38;5;241m*\u001B[39m (\u001B[38;5;241m-\u001B[39mlog(tensor(\u001B[38;5;241m10000.0\u001B[39m) \u001B[38;5;241m/\u001B[39m d_model)))\n\u001B[1;32m---> 60\u001B[0m pe[:, \u001B[38;5;241m0\u001B[39m::\u001B[38;5;241m2\u001B[39m, :] \u001B[38;5;241m=\u001B[39m sin(\u001B[43mposition_x\u001B[49m\u001B[43m \u001B[49m\u001B[38;5;241;43m*\u001B[39;49m\u001B[43m \u001B[49m\u001B[43mdiv_term\u001B[49m)\n\u001B[0;32m     61\u001B[0m pe[:, \u001B[38;5;241m1\u001B[39m::\u001B[38;5;241m2\u001B[39m, :] \u001B[38;5;241m=\u001B[39m cos(position_x \u001B[38;5;241m*\u001B[39m div_term)\n\u001B[0;32m     62\u001B[0m pe[:, :, \u001B[38;5;241m0\u001B[39m::\u001B[38;5;241m2\u001B[39m] \u001B[38;5;241m=\u001B[39m cos(position_y \u001B[38;5;241m*\u001B[39m div_term)\n",
      "\u001B[1;31mRuntimeError\u001B[0m: The size of tensor a (5) must match the size of tensor b (256) at non-singleton dimension 1"
     ]
    }
   ],
   "execution_count": 6
  }
 ],
 "metadata": {
  "kernelspec": {
   "display_name": "Python 3",
   "language": "python",
   "name": "python3"
  },
  "language_info": {
   "codemirror_mode": {
    "name": "ipython",
    "version": 2
   },
   "file_extension": ".py",
   "mimetype": "text/x-python",
   "name": "python",
   "nbconvert_exporter": "python",
   "pygments_lexer": "ipython2",
   "version": "2.7.6"
  }
 },
 "nbformat": 4,
 "nbformat_minor": 5
}
