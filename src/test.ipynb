{
 "cells": [
  {
   "cell_type": "code",
   "metadata": {
    "jupyter": {
     "is_executing": true
    }
   },
   "source": [
    "from utils.dataset import Argo3DTemperatureDataset, FrameType\n",
    "\n",
    "data_set = Argo3DTemperatureDataset().getFrame(FrameType.surface, time=(50, 51), lat=(160, 170), lon=(100, 110), depth=(0, 1)).reshape(10, 10)\n",
    "\n",
    "print(data_set)"
   ],
   "outputs": [],
   "execution_count": null
  },
  {
   "cell_type": "code",
   "execution_count": 4,
   "metadata": {},
   "outputs": [
    {
     "name": "stdout",
     "output_type": "stream",
     "text": [
      "LSTMNetwork(\n",
      "  (conv1): Conv2d(1, 1, kernel_size=(3, 3), stride=(1, 1))\n",
      "  (conv2): Conv2d(1, 1, kernel_size=(3, 3), stride=(1, 1))\n",
      "  (lstm): LSTM(10, 10)\n",
      "  (pool1): MaxPool2d(kernel_size=3, stride=3, padding=0, dilation=1, ceil_mode=False)\n",
      "  (pool2): AvgPool2d(kernel_size=3, stride=3, padding=0)\n",
      "  (activation1): Sigmoid()\n",
      "  (activation2): ReLU()\n",
      "  (fc1): Linear(in_features=10, out_features=10, bias=True)\n",
      ")\n"
     ]
    }
   ],
   "source": [
    "import numpy as np\n",
    "\n",
    "from torch import tensor\n",
    "\n",
    "from models.LSTM import LSTMNetwork\n",
    "\n",
    "model = LSTMNetwork(data_set.shape).to('cuda')\n",
    "\n",
    "print(model) "
   ]
  },
  {
   "cell_type": "code",
   "execution_count": 7,
   "metadata": {},
   "outputs": [
    {
     "name": "stdout",
     "output_type": "stream",
     "text": [
      "卷积：  torch.Size([1, 1, 8, 8])\n",
      "池化：  torch.Size([1, 1, 2, 2])\n",
      "tensor([[[[-25.1940, -23.1222],\n",
      "          [-25.3725, -23.1313]]]], device='cuda:0',\n",
      "       grad_fn=<MaxPool2DWithIndicesBackward0>)\n",
      "torch.Size([1, 1, 2, 2])\n"
     ]
    }
   ],
   "source": [
    "data = tensor([[data_set]]).to('cuda')\n",
    "\n",
    "output = model(data)\n",
    "\n",
    "print(output)\n",
    "print(output.shape)"
   ]
  }
 ],
 "metadata": {
  "kernelspec": {
   "display_name": "base",
   "language": "python",
   "name": "python3"
  },
  "language_info": {
   "codemirror_mode": {
    "name": "ipython",
    "version": 3
   },
   "file_extension": ".py",
   "mimetype": "text/x-python",
   "name": "python",
   "nbconvert_exporter": "python",
   "pygments_lexer": "ipython3",
   "version": "3.12.7"
  }
 },
 "nbformat": 4,
 "nbformat_minor": 2
}
