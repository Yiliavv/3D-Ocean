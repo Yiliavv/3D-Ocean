{
 "cells": [
  {
   "cell_type": "code",
   "execution_count": 7,
   "metadata": {},
   "outputs": [
    {
     "name": "stdout",
     "output_type": "stream",
     "text": [
      "(319, 1440, 721)\n",
      "-32767.0\n"
     ]
    }
   ],
   "source": [
    "# 导入数据集\n",
    "import numpy as np\n",
    "from utils.dataset import ERA5SstDataset\n",
    "\n",
    "data_set = ERA5SstDataset()\n",
    "print(data_set.shape())\n",
    "\n",
    "train_data = data_set.getFrame(time=(0, 50), lon=(160, 180), lat=(60, 80))\n",
    "\n",
    "print(np.mean(train_data))"
   ]
  },
  {
   "cell_type": "code",
   "execution_count": null,
   "metadata": {},
   "outputs": [],
   "source": []
  }
 ],
 "metadata": {
  "kernelspec": {
   "display_name": "base",
   "language": "python",
   "name": "python3"
  },
  "language_info": {
   "codemirror_mode": {
    "name": "ipython",
    "version": 3
   },
   "file_extension": ".py",
   "mimetype": "text/x-python",
   "name": "python",
   "nbconvert_exporter": "python",
   "pygments_lexer": "ipython3",
   "version": "3.12.7"
  }
 },
 "nbformat": 4,
 "nbformat_minor": 2
}
